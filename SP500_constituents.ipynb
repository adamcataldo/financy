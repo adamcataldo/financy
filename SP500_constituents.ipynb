{
 "cells": [
  {
   "cell_type": "code",
   "execution_count": 4,
   "id": "b1c669ce-95e0-4a13-a038-2510dfe109cb",
   "metadata": {},
   "outputs": [
    {
     "name": "stdout",
     "output_type": "stream",
     "text": [
      "{'bytes': 17945, 'datahub': {'derivedFrom': ['constituents'], 'type': 'derived/csv'}, 'dialect': {'delimiter': ',', 'doubleQuote': True, 'lineTerminator': '\\r\\n', 'quoteChar': '\"', 'skipInitialSpace': False}, 'dpp:streamedFrom': 'https://s3.amazonaws.com/rawstore.datahub.io/1beb8c524488247ccb27917bfcb581ec.csv', 'encoding': 'utf-8', 'format': 'csv', 'hash': '1beb8c524488247ccb27917bfcb581ec', 'mediatype': 'text/csv', 'name': 'constituents_csv', 'path': 'https://pkgstore.datahub.io/core/s-and-p-500-companies/constituents_csv/data/1beb8c524488247ccb27917bfcb581ec/constituents_csv.csv', 'pathType': 'local', 'profile': 'data-resource', 'rowcount': 505, 'schema': {'fields': [{'description': '', 'name': 'Symbol', 'type': 'string'}, {'description': '', 'name': 'Name', 'type': 'string'}, {'description': '', 'name': 'Sector', 'type': 'string'}]}, 'signed': True}\n",
      "{'bytes': 17439, 'datahub': {'type': 'source/tabular'}, 'dpp:streamedFrom': 'https://s3.amazonaws.com/rawstore.datahub.io/1beb8c524488247ccb27917bfcb581ec.csv', 'encoding': 'UTF-8', 'format': 'csv', 'mediatype': 'text/csv', 'name': 'constituents', 'path': 'https://pkgstore.datahub.io/core/s-and-p-500-companies/constituents/archive/1beb8c524488247ccb27917bfcb581ec/constituents.csv', 'pathType': 'local', 'profile': 'data-resource', 'schema': {'fields': [{'description': '', 'name': 'Symbol', 'type': 'string'}, {'description': '', 'name': 'Name', 'type': 'string'}, {'description': '', 'name': 'Sector', 'type': 'string'}]}, 'signed': True}\n"
     ]
    }
   ],
   "source": [
    "import datapackage\n",
    "import pandas as pd\n",
    "\n",
    "data_url = 'https://datahub.io/core/s-and-p-500-companies/datapackage.json'\n",
    "\n",
    "# to load Data Package into storage\n",
    "package = datapackage.Package(data_url)\n",
    "\n",
    "# to load only tabular data\n",
    "resources = package.resources\n",
    "for resource in resources:\n",
    "    if resource.tabular:\n",
    "        data = pd.read_csv(resource.descriptor['path'])\n",
    "        print (resource.descriptor)"
   ]
  },
  {
   "cell_type": "code",
   "execution_count": 1,
   "id": "7a559192-2961-4a2f-a4e7-596fa9ae057b",
   "metadata": {},
   "outputs": [],
   "source": [
    "import pandas as pd\n",
    "x = pd.read_html(\"https://en.wikipedia.org/wiki/List_of_S%26P_500_companies\")"
   ]
  },
  {
   "cell_type": "code",
   "execution_count": 2,
   "id": "7be6b792-2586-4736-a043-e22311be3fa5",
   "metadata": {},
   "outputs": [
    {
     "data": {
      "text/plain": [
       "[    Symbol              Security SEC filings             GICS Sector  \\\n",
       " 0      MMM                    3M     reports             Industrials   \n",
       " 1      AOS           A. O. Smith     reports             Industrials   \n",
       " 2      ABT                Abbott     reports             Health Care   \n",
       " 3     ABBV                AbbVie     reports             Health Care   \n",
       " 4     ABMD               Abiomed     reports             Health Care   \n",
       " ..     ...                   ...         ...                     ...   \n",
       " 498    YUM           Yum! Brands     reports  Consumer Discretionary   \n",
       " 499   ZBRA    Zebra Technologies     reports  Information Technology   \n",
       " 500    ZBH         Zimmer Biomet     reports             Health Care   \n",
       " 501   ZION  Zions Bancorporation     reports              Financials   \n",
       " 502    ZTS                Zoetis     reports             Health Care   \n",
       " \n",
       "                       GICS Sub-Industry    Headquarters Location  \\\n",
       " 0              Industrial Conglomerates    Saint Paul, Minnesota   \n",
       " 1                     Building Products     Milwaukee, Wisconsin   \n",
       " 2                 Health Care Equipment  North Chicago, Illinois   \n",
       " 3                       Pharmaceuticals  North Chicago, Illinois   \n",
       " 4                 Health Care Equipment   Danvers, Massachusetts   \n",
       " ..                                  ...                      ...   \n",
       " 498                         Restaurants     Louisville, Kentucky   \n",
       " 499  Electronic Equipment & Instruments   Lincolnshire, Illinois   \n",
       " 500               Health Care Equipment          Warsaw, Indiana   \n",
       " 501                      Regional Banks     Salt Lake City, Utah   \n",
       " 502                     Pharmaceuticals   Parsippany, New Jersey   \n",
       " \n",
       "     Date first added      CIK      Founded  \n",
       " 0         1976-08-09    66740         1902  \n",
       " 1         2017-07-26    91142         1916  \n",
       " 2         1964-03-31     1800         1888  \n",
       " 3         2012-12-31  1551152  2013 (1888)  \n",
       " 4         2018-05-31   815094         1981  \n",
       " ..               ...      ...          ...  \n",
       " 498       1997-10-06  1041061         1997  \n",
       " 499       2019-12-23   877212         1969  \n",
       " 500       2001-08-07  1136869         1927  \n",
       " 501       2001-06-22   109380         1873  \n",
       " 502       2013-06-21  1555280         1952  \n",
       " \n",
       " [503 rows x 9 columns],\n",
       "                  Date  Added                                Removed  \\\n",
       "                  Date Ticker                       Security  Ticker   \n",
       " 0       June 21, 2022    KDP               Keurig Dr Pepper  UA/UAA   \n",
       " 1       June 21, 2022     ON               ON Semiconductor    IPGP   \n",
       " 2        June 8, 2022   VICI                Vici Properties    CERN   \n",
       " 3       April 4, 2022    CPT          Camden Property Trust    PBCT   \n",
       " 4       March 2, 2022    MOH              Molina Healthcare    INFO   \n",
       " ..                ...    ...                            ...     ...   \n",
       " 297     July 27, 2000   JDSU                   JDS Uniphase     RAD   \n",
       " 298     June 12, 2000    CVG                      Convergys     TMC   \n",
       " 299      June 7, 2000   SBUX                      Starbucks     SMS   \n",
       " 300  December 7, 1999   YHOO                         Yahoo!     LDW   \n",
       " 301     June 17, 1997    CCI  Countrywide Credit Industries     USL   \n",
       " \n",
       "                                 \\\n",
       "                       Security   \n",
       " 0                 Under Armour   \n",
       " 1                IPG Photonics   \n",
       " 2                       Cerner   \n",
       " 3    People's United Financial   \n",
       " 4                   IHS Markit   \n",
       " ..                         ...   \n",
       " 297                    RiteAid   \n",
       " 298               Times Mirror   \n",
       " 299     Shared Medical Systems   \n",
       " 300                    Laidlaw   \n",
       " 301                     USLife   \n",
       " \n",
       "                                                 Reason  \n",
       "                                                 Reason  \n",
       " 0                     Market capitalization change.[5]  \n",
       " 1                     Market capitalization change.[5]  \n",
       " 2    S&P 500 constituent Oracle Corp. acquired Cern...  \n",
       " 3    S&P 500 constituent M&T Bank Corp. acquired Pe...  \n",
       " 4    S&P 500 constituent S&P Global Inc. acquired I...  \n",
       " ..                                                 ...  \n",
       " 297                            Market Cap change.[229]  \n",
       " 298            Tribune Co. acquired Times Mirror.[230]  \n",
       " 299   Siemens AG acquired Shared Medical Systems.[231]  \n",
       " 300                 Market capitalization change.[232]  \n",
       " 301                          AIG acquired USLife.[233]  \n",
       " \n",
       " [302 rows x 6 columns]]"
      ]
     },
     "execution_count": 2,
     "metadata": {},
     "output_type": "execute_result"
    }
   ],
   "source": [
    "x"
   ]
  },
  {
   "cell_type": "code",
   "execution_count": 3,
   "id": "d00c5ccc-e6a6-4daf-bf68-3e28ad711916",
   "metadata": {},
   "outputs": [
    {
     "data": {
      "text/plain": [
       "2"
      ]
     },
     "execution_count": 3,
     "metadata": {},
     "output_type": "execute_result"
    }
   ],
   "source": [
    "len(x)"
   ]
  },
  {
   "cell_type": "code",
   "execution_count": 6,
   "id": "20efe2ad-ad9f-4e78-b305-f18733926a6b",
   "metadata": {},
   "outputs": [
    {
     "data": {
      "text/plain": [
       "0       MMM\n",
       "1       AOS\n",
       "2       ABT\n",
       "3      ABBV\n",
       "4      ABMD\n",
       "       ... \n",
       "498     YUM\n",
       "499    ZBRA\n",
       "500     ZBH\n",
       "501    ZION\n",
       "502     ZTS\n",
       "Name: Symbol, Length: 503, dtype: object"
      ]
     },
     "execution_count": 6,
     "metadata": {},
     "output_type": "execute_result"
    }
   ],
   "source": [
    "x[0].Symbol"
   ]
  },
  {
   "cell_type": "code",
   "execution_count": 1,
   "id": "a9ac492f-6cba-4141-8c7a-8e44e5e8d058",
   "metadata": {},
   "outputs": [
    {
     "data": {
      "text/plain": [
       "0       MMM\n",
       "1       AOS\n",
       "2       ABT\n",
       "3      ABBV\n",
       "4      ABMD\n",
       "       ... \n",
       "498     YUM\n",
       "499    ZBRA\n",
       "500     ZBH\n",
       "501    ZION\n",
       "502     ZTS\n",
       "Name: Symbol, Length: 503, dtype: object"
      ]
     },
     "execution_count": 1,
     "metadata": {},
     "output_type": "execute_result"
    }
   ],
   "source": [
    "from valuation import get_sp500_constituents\n",
    "get_sp500_constituents()"
   ]
  },
  {
   "cell_type": "code",
   "execution_count": 3,
   "id": "921b4175-0fdc-4897-ae29-ad8b7073b40b",
   "metadata": {},
   "outputs": [
    {
     "name": "stdout",
     "output_type": "stream",
     "text": [
      "Company Profile: fmpsdk.company_profile(apikey=apikey, symbol=symbol)=[{'symbol': 'FTNT', 'price': 59.62, 'beta': 1.180928, 'volAvg': 6546906, 'mktCap': 47853158400, 'lastDiv': 0.0, 'range': '48.726-74.354', 'changes': -2.6599998, 'companyName': 'Fortinet, Inc.', 'currency': 'USD', 'cik': '0001262039', 'isin': 'US34959E1091', 'cusip': '34959E109', 'exchange': 'NASDAQ Global Select', 'exchangeShortName': 'NASDAQ', 'industry': 'Software—Infrastructure', 'website': 'https://www.fortinet.com', 'description': 'Fortinet, Inc. provides broad, integrated, and automated cybersecurity solutions in the Americas, Europe, the Middle East, Africa, and the Asia Pacific. It offers FortiGate hardware and software licenses that provide various security and networking functions, including firewall, intrusion prevention, anti-malware, virtual private network, application control, web filtering, anti-spam, and wide area network acceleration. The company also provides FortiSwitch product family that offers secure switching solutions for connecting customers their end devices; FortiAP product family, which provides secure wireless networking solutions; FortiExtender, a hardware appliance; FortiAnalyzer product family, which offers centralized network logging, analyzing, and reporting solutions; and FortiManager product family that provides central and scalable management solution for its FortiGate products. It offers FortiWeb product family provides web application firewall solutions; FortiMail product family that secure email gateway solutions; FortiSandbox technology that delivers proactive detection and mitigation services; FortiClient that provides endpoint protection with pattern-based anti-malware, behavior-based exploit protection, web-filtering, and an application firewall; FortiToken and FortiAuthenticator product families for multi-factor authentication to safeguard systems, assets, and data; and FortiEDR/XDR, an endpoint protection solution that provides both comprehensive machine-learning anti-malware execution and real-time post-infection protection. It provides security subscription, technical support, professional, and training services. It sells its security solutions to channel partners and directly to various customers in telecommunications, technology, government, financial services, education, retail, manufacturing, and healthcare industries. It has strategic alliance with Linksys. Fortinet, Inc. was incorporated in 2000 and is headquartered in Sunnyvale, California.', 'ceo': 'Mr. Ken Xie', 'sector': 'Technology', 'country': 'US', 'fullTimeEmployees': '10860', 'phone': '14082357700', 'address': '899 Kifer Rd', 'city': 'Sunnyvale', 'state': 'CALIFORNIA', 'zip': '94086', 'dcfDiff': 7.89408, 'dcf': 67.5141, 'image': 'https://financialmodelingprep.com/image-stock/FTNT.png', 'ipoDate': '2009-06-08', 'defaultImage': False, 'isEtf': False, 'isActivelyTrading': True, 'isAdr': False, 'isFund': False}]\n"
     ]
    }
   ],
   "source": [
    "import os\n",
    "import fmpsdk\n",
    "\n",
    "with open('.apikey') as f:\n",
    "    apikey = f.read().strip()\n",
    "\n",
    "# Company Valuation Methods\n",
    "\n",
    "symbol = \"FTNT\"\n",
    "print(f\"Company Profile: {fmpsdk.company_profile(apikey=apikey, symbol=symbol)=}\")"
   ]
  },
  {
   "cell_type": "code",
   "execution_count": null,
   "id": "034749cb-6c34-4830-938a-63c1df984ead",
   "metadata": {},
   "outputs": [],
   "source": []
  },
  {
   "cell_type": "code",
   "execution_count": 4,
   "id": "0cbcc2ac-4cb3-4193-8a5a-15bf4eacad25",
   "metadata": {},
   "outputs": [],
   "source": [
    "import os\n",
    "import fmpsdk\n",
    "\n",
    "with open('.apikey') as f:\n",
    "    apikey = f.read().strip()\n",
    "\n",
    "# Company Valuation Methods\n",
    "\n",
    "symbol = \"AAPL\"\n",
    "period = \"quarter\"\n",
    "x = fmpsdk.cash_flow_statement(apikey=apikey, symbol=symbol)"
   ]
  },
  {
   "cell_type": "code",
   "execution_count": 9,
   "id": "1c5de311-bb82-4e81-950b-c45e3e5dd250",
   "metadata": {},
   "outputs": [
    {
     "data": {
      "text/html": [
       "<div>\n",
       "<style scoped>\n",
       "    .dataframe tbody tr th:only-of-type {\n",
       "        vertical-align: middle;\n",
       "    }\n",
       "\n",
       "    .dataframe tbody tr th {\n",
       "        vertical-align: top;\n",
       "    }\n",
       "\n",
       "    .dataframe thead th {\n",
       "        text-align: right;\n",
       "    }\n",
       "</style>\n",
       "<table border=\"1\" class=\"dataframe\">\n",
       "  <thead>\n",
       "    <tr style=\"text-align: right;\">\n",
       "      <th></th>\n",
       "      <th>quarter</th>\n",
       "      <th>free_cashflow</th>\n",
       "    </tr>\n",
       "  </thead>\n",
       "  <tbody>\n",
       "    <tr>\n",
       "      <th>0</th>\n",
       "      <td>2021-09-25</td>\n",
       "      <td>92953000000</td>\n",
       "    </tr>\n",
       "    <tr>\n",
       "      <th>1</th>\n",
       "      <td>2020-09-26</td>\n",
       "      <td>73365000000</td>\n",
       "    </tr>\n",
       "    <tr>\n",
       "      <th>2</th>\n",
       "      <td>2019-09-28</td>\n",
       "      <td>58896000000</td>\n",
       "    </tr>\n",
       "    <tr>\n",
       "      <th>3</th>\n",
       "      <td>2018-09-29</td>\n",
       "      <td>64121000000</td>\n",
       "    </tr>\n",
       "    <tr>\n",
       "      <th>4</th>\n",
       "      <td>2017-09-30</td>\n",
       "      <td>50803000000</td>\n",
       "    </tr>\n",
       "  </tbody>\n",
       "</table>\n",
       "</div>"
      ],
      "text/plain": [
       "      quarter  free_cashflow\n",
       "0  2021-09-25    92953000000\n",
       "1  2020-09-26    73365000000\n",
       "2  2019-09-28    58896000000\n",
       "3  2018-09-29    64121000000\n",
       "4  2017-09-30    50803000000"
      ]
     },
     "execution_count": 9,
     "metadata": {},
     "output_type": "execute_result"
    }
   ],
   "source": [
    "import pandas as pd\n",
    "statements = x\n",
    "period = 'quarter'\n",
    "data = [(x['date'], x['freeCashFlow']) for x in statements]\n",
    "df = pd.DataFrame(data, columns=[period, 'free_cashflow'])\n",
    "df"
   ]
  },
  {
   "cell_type": "code",
   "execution_count": 3,
   "id": "c13d77ef-5da7-4062-90c9-73e938898895",
   "metadata": {},
   "outputs": [
    {
     "data": {
      "text/plain": [
       "datetime.datetime(2022, 7, 14, 11, 51, 3, 33137)"
      ]
     },
     "execution_count": 3,
     "metadata": {},
     "output_type": "execute_result"
    }
   ],
   "source": [
    "from datetime import datetime\n",
    "datetime.now()"
   ]
  },
  {
   "cell_type": "code",
   "execution_count": 4,
   "id": "ca262703-2e5c-4c63-86fb-1df3678f37da",
   "metadata": {},
   "outputs": [
    {
     "data": {
      "text/plain": [
       "datetime.datetime(2022, 7, 14, 11, 51, 27, 142489)"
      ]
     },
     "execution_count": 4,
     "metadata": {},
     "output_type": "execute_result"
    }
   ],
   "source": [
    "datetime.now()"
   ]
  },
  {
   "cell_type": "code",
   "execution_count": null,
   "id": "9ce03ee2-e420-4b0e-8f5e-5c677ab4c442",
   "metadata": {},
   "outputs": [],
   "source": []
  },
  {
   "cell_type": "code",
   "execution_count": null,
   "id": "a1b569c5-7d14-4df6-9e92-f6e4dd7d73b7",
   "metadata": {},
   "outputs": [],
   "source": []
  },
  {
   "cell_type": "code",
   "execution_count": null,
   "id": "48356989-efab-43a2-a824-d13f86d07bab",
   "metadata": {},
   "outputs": [],
   "source": []
  },
  {
   "cell_type": "code",
   "execution_count": 5,
   "id": "62337201-544c-47d6-a3c5-bc682a956bc0",
   "metadata": {},
   "outputs": [],
   "source": [
    "x = lambda : print(\"hello\")"
   ]
  },
  {
   "cell_type": "code",
   "execution_count": 6,
   "id": "e21faed8-b6be-482a-bab9-4c2124fe580e",
   "metadata": {},
   "outputs": [
    {
     "name": "stdout",
     "output_type": "stream",
     "text": [
      "hello\n"
     ]
    }
   ],
   "source": [
    "x()"
   ]
  },
  {
   "cell_type": "code",
   "execution_count": null,
   "id": "39df52c1-ee76-49ce-9e48-0b8fe135a8f8",
   "metadata": {},
   "outputs": [],
   "source": []
  },
  {
   "cell_type": "code",
   "execution_count": null,
   "id": "1fa65ff4-a141-49fe-94ae-7d138cdc0147",
   "metadata": {},
   "outputs": [],
   "source": []
  },
  {
   "cell_type": "code",
   "execution_count": 10,
   "id": "d1e56e57-2d75-416b-a2df-78c4fd9a62e5",
   "metadata": {},
   "outputs": [],
   "source": [
    "x = "
   ]
  },
  {
   "cell_type": "code",
   "execution_count": 15,
   "id": "e65a316b-edf2-4fe6-880f-97bb84e4376c",
   "metadata": {},
   "outputs": [
    {
     "data": {
      "text/plain": [
       "int"
      ]
     },
     "execution_count": 15,
     "metadata": {},
     "output_type": "execute_result"
    }
   ],
   "source": [
    "type(x[0]['marketCap'])"
   ]
  },
  {
   "cell_type": "code",
   "execution_count": 1,
   "id": "2ef13efa-66eb-4e22-9559-7c796a2047cb",
   "metadata": {},
   "outputs": [
    {
     "data": {
      "text/plain": [
       "47853158400"
      ]
     },
     "execution_count": 1,
     "metadata": {},
     "output_type": "execute_result"
    }
   ],
   "source": [
    "from valuation import get_market_cap\n",
    "get_market_cap('FTNT')"
   ]
  },
  {
   "cell_type": "code",
   "execution_count": 1,
   "id": "44af4731-e972-48d1-9a96-eb9757f353a4",
   "metadata": {},
   "outputs": [
    {
     "data": {
      "text/html": [
       "<div>\n",
       "<style scoped>\n",
       "    .dataframe tbody tr th:only-of-type {\n",
       "        vertical-align: middle;\n",
       "    }\n",
       "\n",
       "    .dataframe tbody tr th {\n",
       "        vertical-align: top;\n",
       "    }\n",
       "\n",
       "    .dataframe thead th {\n",
       "        text-align: right;\n",
       "    }\n",
       "</style>\n",
       "<table border=\"1\" class=\"dataframe\">\n",
       "  <thead>\n",
       "    <tr style=\"text-align: right;\">\n",
       "      <th></th>\n",
       "      <th>annual</th>\n",
       "      <th>free_cashflow</th>\n",
       "    </tr>\n",
       "  </thead>\n",
       "  <tbody>\n",
       "    <tr>\n",
       "      <th>0</th>\n",
       "      <td>2021-12-31</td>\n",
       "      <td>1203800000</td>\n",
       "    </tr>\n",
       "    <tr>\n",
       "      <th>1</th>\n",
       "      <td>2020-12-31</td>\n",
       "      <td>957800000</td>\n",
       "    </tr>\n",
       "    <tr>\n",
       "      <th>2</th>\n",
       "      <td>2019-12-31</td>\n",
       "      <td>715800000</td>\n",
       "    </tr>\n",
       "    <tr>\n",
       "      <th>3</th>\n",
       "      <td>2018-12-31</td>\n",
       "      <td>585900000</td>\n",
       "    </tr>\n",
       "    <tr>\n",
       "      <th>4</th>\n",
       "      <td>2017-12-31</td>\n",
       "      <td>459093000</td>\n",
       "    </tr>\n",
       "  </tbody>\n",
       "</table>\n",
       "</div>"
      ],
      "text/plain": [
       "       annual  free_cashflow\n",
       "0  2021-12-31     1203800000\n",
       "1  2020-12-31      957800000\n",
       "2  2019-12-31      715800000\n",
       "3  2018-12-31      585900000\n",
       "4  2017-12-31      459093000"
      ]
     },
     "execution_count": 1,
     "metadata": {},
     "output_type": "execute_result"
    }
   ],
   "source": [
    "from valuation import get_historic_fcf\n",
    "get_historic_fcf('FTNT', 'annual')\n"
   ]
  },
  {
   "cell_type": "code",
   "execution_count": null,
   "id": "67280ccb-373c-4d27-af28-4c94ed28e29a",
   "metadata": {},
   "outputs": [],
   "source": []
  },
  {
   "cell_type": "code",
   "execution_count": null,
   "id": "5abcb273-4ec4-47af-a9ff-d188efbac020",
   "metadata": {},
   "outputs": [],
   "source": []
  },
  {
   "cell_type": "code",
   "execution_count": null,
   "id": "28e0d164-6224-4fbe-a504-6b32807ff2d7",
   "metadata": {},
   "outputs": [],
   "source": []
  },
  {
   "cell_type": "code",
   "execution_count": null,
   "id": "c1cb8871-4f11-4626-87d0-1ddd8db86c5f",
   "metadata": {},
   "outputs": [],
   "source": []
  },
  {
   "cell_type": "code",
   "execution_count": null,
   "id": "47b85535-ad36-46cb-a1f3-a3622ecdb29d",
   "metadata": {},
   "outputs": [],
   "source": []
  },
  {
   "cell_type": "code",
   "execution_count": null,
   "id": "2fbce5a3-a35a-42c2-acd9-215a7d65d84a",
   "metadata": {},
   "outputs": [],
   "source": []
  },
  {
   "cell_type": "code",
   "execution_count": null,
   "id": "6a71d71c-3621-40c9-a9ca-70428d573818",
   "metadata": {},
   "outputs": [],
   "source": []
  },
  {
   "cell_type": "code",
   "execution_count": null,
   "id": "b7ad15ff-d696-4375-85e4-b84b16ee8ec8",
   "metadata": {},
   "outputs": [],
   "source": []
  },
  {
   "cell_type": "code",
   "execution_count": null,
   "id": "23748db2-1f44-48b0-9b32-d70fbec48a8d",
   "metadata": {},
   "outputs": [],
   "source": []
  },
  {
   "cell_type": "code",
   "execution_count": null,
   "id": "0ce15460-90e5-4b14-8dde-aaa34fb83fa2",
   "metadata": {},
   "outputs": [],
   "source": []
  },
  {
   "cell_type": "code",
   "execution_count": null,
   "id": "57d8708c-1f80-478d-a4bb-15dbce906f6a",
   "metadata": {},
   "outputs": [],
   "source": []
  },
  {
   "cell_type": "code",
   "execution_count": null,
   "id": "0662b833-5fef-4983-a4e1-a1bee57df237",
   "metadata": {},
   "outputs": [],
   "source": []
  },
  {
   "cell_type": "code",
   "execution_count": null,
   "id": "a0d050db-2b49-453f-85c8-048ba2b5ccca",
   "metadata": {},
   "outputs": [],
   "source": []
  },
  {
   "cell_type": "code",
   "execution_count": null,
   "id": "9d572cbc-81e1-4ab0-88ca-7681a1d52d0e",
   "metadata": {},
   "outputs": [],
   "source": []
  },
  {
   "cell_type": "code",
   "execution_count": null,
   "id": "9a0ee9f2-52aa-486f-9968-d7c5ce3c6c91",
   "metadata": {},
   "outputs": [],
   "source": []
  },
  {
   "cell_type": "code",
   "execution_count": null,
   "id": "6330f2f6-0ac5-4ed1-b308-e4f1ab36ee61",
   "metadata": {},
   "outputs": [],
   "source": []
  },
  {
   "cell_type": "code",
   "execution_count": null,
   "id": "c765adb2-af7b-416d-8148-bf33ef31ae99",
   "metadata": {},
   "outputs": [],
   "source": []
  },
  {
   "cell_type": "code",
   "execution_count": null,
   "id": "50c32d81-c2eb-4be7-be7b-4994048ae03e",
   "metadata": {},
   "outputs": [],
   "source": []
  }
 ],
 "metadata": {
  "kernelspec": {
   "display_name": "Python 3 (ipykernel)",
   "language": "python",
   "name": "python3"
  },
  "language_info": {
   "codemirror_mode": {
    "name": "ipython",
    "version": 3
   },
   "file_extension": ".py",
   "mimetype": "text/x-python",
   "name": "python",
   "nbconvert_exporter": "python",
   "pygments_lexer": "ipython3",
   "version": "3.8.9"
  }
 },
 "nbformat": 4,
 "nbformat_minor": 5
}
