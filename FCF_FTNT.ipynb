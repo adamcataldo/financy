{
 "cells": [
  {
   "cell_type": "code",
   "execution_count": 1,
   "id": "4d030d55-bf71-4698-bca2-94ce8adc4a57",
   "metadata": {
    "tags": []
   },
   "outputs": [
    {
     "data": {
      "text/plain": [
       "IntrinsicValue(low=36.032286771817475, high=50.34442111654127)"
      ]
     },
     "execution_count": 1,
     "metadata": {},
     "output_type": "execute_result"
    }
   ],
   "source": [
    "from valuation import value_csv\n",
    "value_latest = value_csv('FTNT')\n",
    "value_latest"
   ]
  },
  {
   "cell_type": "code",
   "execution_count": null,
   "id": "391abb84-3496-4e43-8d86-abf1127446e6",
   "metadata": {
    "jupyter": {
     "source_hidden": true
    },
    "tags": []
   },
   "outputs": [
    {
     "data": {
      "text/plain": [
       "IntrinsicValue(low=28.96718107116323, high=293.41550080271014)"
      ]
     },
     "execution_count": 2,
     "metadata": {},
     "output_type": "execute_result"
    }
   ],
   "source": [
    "value_csv('HPQ')"
   ]
  },
  {
   "cell_type": "code",
   "execution_count": null,
   "id": "116ba205-89a3-434b-b461-643e9c42d351",
   "metadata": {},
   "outputs": [
    {
     "data": {
      "text/plain": [
       "IntrinsicValue(low=70.6339606057017, high=881.7261495437655)"
      ]
     },
     "execution_count": 3,
     "metadata": {},
     "output_type": "execute_result"
    }
   ],
   "source": [
    "value_csv('LMT')"
   ]
  },
  {
   "cell_type": "code",
   "execution_count": null,
   "id": "9d70b815-f7d2-4e69-a232-328076ef145b",
   "metadata": {},
   "outputs": [
    {
     "data": {
      "text/plain": [
       "IntrinsicValue(low=133.21282609803268, high=266.91375327900096)"
      ]
     },
     "execution_count": 4,
     "metadata": {},
     "output_type": "execute_result"
    }
   ],
   "source": [
    "value_csv('PM')"
   ]
  },
  {
   "cell_type": "code",
   "execution_count": null,
   "id": "5da854ac-edca-4fa4-9b42-b7b14891ad01",
   "metadata": {},
   "outputs": [
    {
     "data": {
      "text/plain": [
       "IntrinsicValue(low=143.55696716932812, high=93075.62758911379)"
      ]
     },
     "execution_count": 5,
     "metadata": {},
     "output_type": "execute_result"
    }
   ],
   "source": [
    "value_csv('NRG')"
   ]
  },
  {
   "cell_type": "code",
   "execution_count": null,
   "id": "585dee45-9039-4fe3-ac93-495a89c21094",
   "metadata": {},
   "outputs": [
    {
     "data": {
      "text/plain": [
       "IntrinsicValue(low=0.06502452386068171, high=5535.472419896469)"
      ]
     },
     "execution_count": 6,
     "metadata": {},
     "output_type": "execute_result"
    }
   ],
   "source": [
    "value_csv('AMD')"
   ]
  },
  {
   "cell_type": "code",
   "execution_count": null,
   "id": "5b22778c-5a74-4c59-ae94-5e3cf05be3b9",
   "metadata": {},
   "outputs": [
    {
     "data": {
      "text/plain": [
       "IntrinsicValue(low=2520.312205335011, high=6457.67149016072)"
      ]
     },
     "execution_count": 7,
     "metadata": {},
     "output_type": "execute_result"
    }
   ],
   "source": [
    "value_csv('GOOG')"
   ]
  },
  {
   "cell_type": "code",
   "execution_count": null,
   "id": "e4ec79e4-3a53-44c3-abda-be85fb3cb3ef",
   "metadata": {
    "jupyter": {
     "source_hidden": true
    },
    "tags": []
   },
   "outputs": [],
   "source": []
  },
  {
   "cell_type": "markdown",
   "id": "15314f40-0cb5-45af-b329-da5356a25047",
   "metadata": {},
   "source": [
    "Sell FTNT at $63\n",
    "Hold HPQ\n",
    "Hold LMT\n",
    "Hold PM\n",
    "Consider buying more NRG\n",
    "Hold AMD\n",
    "Consider buying more GOOG\n"
   ]
  },
  {
   "cell_type": "code",
   "execution_count": 1,
   "id": "8dd636d0-e0ed-4bd8-8027-b5c8ba2e0e37",
   "metadata": {},
   "outputs": [
    {
     "data": {
      "text/plain": [
       "IntrinsicValue(low=2520.312205335011, high=6457.67149016072)"
      ]
     },
     "execution_count": 1,
     "metadata": {},
     "output_type": "execute_result"
    }
   ],
   "source": [
    "from valuation import value_csv\n",
    "value_csv('GOOG')"
   ]
  },
  {
   "cell_type": "code",
   "execution_count": 3,
   "id": "f41d0d4f-f0cd-4066-97b2-359cd2ce5cf1",
   "metadata": {},
   "outputs": [
    {
     "data": {
      "text/plain": [
       "IntrinsicValue(low=346.3498101325246, high=548.063166074698)"
      ]
     },
     "execution_count": 3,
     "metadata": {},
     "output_type": "execute_result"
    }
   ],
   "source": [
    "value_csv('TSLA')"
   ]
  },
  {
   "cell_type": "code",
   "execution_count": null,
   "id": "28fda500-050d-4ee8-a601-82cefd9a4c93",
   "metadata": {},
   "outputs": [],
   "source": []
  },
  {
   "cell_type": "code",
   "execution_count": null,
   "id": "b3f24cfe-ee46-43bc-b5a4-123b7f4c0482",
   "metadata": {},
   "outputs": [],
   "source": []
  },
  {
   "cell_type": "code",
   "execution_count": 5,
   "id": "df4a9360-3dde-4c33-8209-176c7b735f2d",
   "metadata": {},
   "outputs": [
    {
     "data": {
      "text/plain": [
       "GrowthEstimate(low=-12.83266963880062, high=-5.232456831473016)"
      ]
     },
     "execution_count": 5,
     "metadata": {},
     "output_type": "execute_result"
    }
   ],
   "source": [
    "from valuation import estimate_growth, estimate_growth_negative_fcf\n",
    "estimate_growth(df) "
   ]
  },
  {
   "cell_type": "code",
   "execution_count": 6,
   "id": "e91f6b36-c0a1-46e8-8a30-4878bf55e647",
   "metadata": {},
   "outputs": [
    {
     "data": {
      "text/plain": [
       "GrowthEstimate(low=0.32188095316666115, high=0.4047753799738825)"
      ]
     },
     "execution_count": 6,
     "metadata": {},
     "output_type": "execute_result"
    }
   ],
   "source": [
    "estimate_growth_negative_fcf(df)"
   ]
  },
  {
   "cell_type": "code",
   "execution_count": 7,
   "id": "9ba402e7-41c6-4f47-9aaa-4b361c6991b4",
   "metadata": {},
   "outputs": [
    {
     "data": {
      "text/plain": [
       "-4426638000.0"
      ]
     },
     "execution_count": 7,
     "metadata": {},
     "output_type": "execute_result"
    }
   ],
   "source": [
    "df.free_cashflow.min()"
   ]
  },
  {
   "cell_type": "code",
   "execution_count": 2,
   "id": "aa337ebc-7c96-4c05-9119-ccc486fb0403",
   "metadata": {},
   "outputs": [],
   "source": [
    "from datetime import datetime\n",
    "first = datetime.now()"
   ]
  },
  {
   "cell_type": "code",
   "execution_count": 3,
   "id": "7a81eb4b-9068-46fc-8225-65e04473c804",
   "metadata": {},
   "outputs": [
    {
     "data": {
      "text/plain": [
       "datetime.datetime(2022, 7, 14, 15, 0, 4, 672618)"
      ]
     },
     "execution_count": 3,
     "metadata": {},
     "output_type": "execute_result"
    }
   ],
   "source": [
    "first"
   ]
  },
  {
   "cell_type": "code",
   "execution_count": 4,
   "id": "d3ccf9f9-2a74-434c-b2ae-4c5cd516cd95",
   "metadata": {},
   "outputs": [],
   "source": [
    "second = datetime.now()"
   ]
  },
  {
   "cell_type": "code",
   "execution_count": 5,
   "id": "8e975e64-095f-41aa-9080-6408f58331a3",
   "metadata": {},
   "outputs": [
    {
     "data": {
      "text/plain": [
       "datetime.datetime(2022, 7, 14, 15, 0, 12, 923803)"
      ]
     },
     "execution_count": 5,
     "metadata": {},
     "output_type": "execute_result"
    }
   ],
   "source": [
    "second"
   ]
  },
  {
   "cell_type": "code",
   "execution_count": 6,
   "id": "0c18b9e2-a70f-4ad1-bc73-5855fe20057e",
   "metadata": {},
   "outputs": [
    {
     "data": {
      "text/plain": [
       "datetime.timedelta(seconds=8, microseconds=251185)"
      ]
     },
     "execution_count": 6,
     "metadata": {},
     "output_type": "execute_result"
    }
   ],
   "source": [
    "second - first"
   ]
  },
  {
   "cell_type": "code",
   "execution_count": 7,
   "id": "1acbd089-8297-48fd-86ca-863431531a23",
   "metadata": {},
   "outputs": [
    {
     "data": {
      "text/plain": [
       "True"
      ]
     },
     "execution_count": 7,
     "metadata": {},
     "output_type": "execute_result"
    }
   ],
   "source": [
    "from datetime import timedelta\n",
    "second - first > timedelta(seconds=1)"
   ]
  },
  {
   "cell_type": "code",
   "execution_count": 8,
   "id": "d82ce231-282c-4a90-8594-5fff9cefbfb2",
   "metadata": {},
   "outputs": [
    {
     "data": {
      "text/plain": [
       "False"
      ]
     },
     "execution_count": 8,
     "metadata": {},
     "output_type": "execute_result"
    }
   ],
   "source": [
    "second - first > timedelta(seconds=9)"
   ]
  },
  {
   "cell_type": "code",
   "execution_count": 10,
   "id": "9b680a23-7fe5-427c-839e-7611a7acefa0",
   "metadata": {},
   "outputs": [
    {
     "data": {
      "text/plain": [
       "True"
      ]
     },
     "execution_count": 10,
     "metadata": {},
     "output_type": "execute_result"
    }
   ],
   "source": [
    "second - first < timedelta(minutes=1)"
   ]
  },
  {
   "cell_type": "code",
   "execution_count": 11,
   "id": "29839c30-4efe-4100-af4c-9f13e94179e1",
   "metadata": {},
   "outputs": [
    {
     "data": {
      "text/plain": [
       "datetime.datetime(2022, 7, 14, 15, 0, 4, 672618)"
      ]
     },
     "execution_count": 11,
     "metadata": {},
     "output_type": "execute_result"
    }
   ],
   "source": [
    "first"
   ]
  },
  {
   "cell_type": "code",
   "execution_count": 13,
   "id": "51792608-5fa3-4e36-9cf0-009d2a0ce3d1",
   "metadata": {},
   "outputs": [
    {
     "data": {
      "text/plain": [
       "datetime.timedelta(seconds=51, microseconds=748815)"
      ]
     },
     "execution_count": 13,
     "metadata": {},
     "output_type": "execute_result"
    }
   ],
   "source": [
    "first + timedelta(minutes=1) - second"
   ]
  },
  {
   "cell_type": "code",
   "execution_count": 14,
   "id": "50c21c8c-d7b3-42b6-b7ad-78d190cb941b",
   "metadata": {},
   "outputs": [
    {
     "data": {
      "text/plain": [
       "1.000123"
      ]
     },
     "execution_count": 14,
     "metadata": {},
     "output_type": "execute_result"
    }
   ],
   "source": [
    "timedelta(seconds=1, microseconds=123).total_seconds()"
   ]
  },
  {
   "cell_type": "code",
   "execution_count": 3,
   "id": "7b980b50-6e66-4357-984e-04ad93c61312",
   "metadata": {},
   "outputs": [
    {
     "data": {
      "text/plain": [
       "['a', 'a', 'a', 'a']"
      ]
     },
     "execution_count": 3,
     "metadata": {},
     "output_type": "execute_result"
    }
   ],
   "source": [
    "['a'] * 4"
   ]
  },
  {
   "cell_type": "code",
   "execution_count": 2,
   "id": "d9e5b3c3-e0ec-4c2e-9942-9e59b670e310",
   "metadata": {},
   "outputs": [
    {
     "name": "stdout",
     "output_type": "stream",
     "text": [
      "2022-07-14 16:36:12.385146\n",
      "2022-07-14 16:36:12.385297\n",
      "2022-07-14 16:36:12.385314\n",
      "2022-07-14 16:37:13.387455\n"
     ]
    }
   ],
   "source": [
    "from executor import Executor\n",
    "from datetime import datetime\n",
    "e = Executor(3)\n",
    "for i in range(4):\n",
    "    e.execute(lambda : print(datetime.now()))"
   ]
  },
  {
   "cell_type": "code",
   "execution_count": 3,
   "id": "5df46ec2-e203-4a20-a285-c3e1a46729fc",
   "metadata": {},
   "outputs": [
    {
     "data": {
      "text/plain": [
       "3"
      ]
     },
     "execution_count": 3,
     "metadata": {},
     "output_type": "execute_result"
    }
   ],
   "source": [
    "def f(x = 1, y = 2):\n",
    "    return x + y\n",
    "\n",
    "f()"
   ]
  },
  {
   "cell_type": "code",
   "execution_count": 1,
   "id": "41ac9051-571c-451a-a6ab-3178fc11f895",
   "metadata": {},
   "outputs": [
    {
     "name": "stdout",
     "output_type": "stream",
     "text": [
      "1461950218240\n"
     ]
    },
    {
     "data": {
      "text/html": [
       "<div>\n",
       "<style scoped>\n",
       "    .dataframe tbody tr th:only-of-type {\n",
       "        vertical-align: middle;\n",
       "    }\n",
       "\n",
       "    .dataframe tbody tr th {\n",
       "        vertical-align: top;\n",
       "    }\n",
       "\n",
       "    .dataframe thead th {\n",
       "        text-align: right;\n",
       "    }\n",
       "</style>\n",
       "<table border=\"1\" class=\"dataframe\">\n",
       "  <thead>\n",
       "    <tr style=\"text-align: right;\">\n",
       "      <th></th>\n",
       "      <th>annual</th>\n",
       "      <th>free_cashflow</th>\n",
       "    </tr>\n",
       "  </thead>\n",
       "  <tbody>\n",
       "    <tr>\n",
       "      <th>0</th>\n",
       "      <td>2021-12-31</td>\n",
       "      <td>67012000000</td>\n",
       "    </tr>\n",
       "    <tr>\n",
       "      <th>1</th>\n",
       "      <td>2020-12-31</td>\n",
       "      <td>42843000000</td>\n",
       "    </tr>\n",
       "    <tr>\n",
       "      <th>2</th>\n",
       "      <td>2019-12-31</td>\n",
       "      <td>30972000000</td>\n",
       "    </tr>\n",
       "    <tr>\n",
       "      <th>3</th>\n",
       "      <td>2018-12-31</td>\n",
       "      <td>22832000000</td>\n",
       "    </tr>\n",
       "    <tr>\n",
       "      <th>4</th>\n",
       "      <td>2017-12-31</td>\n",
       "      <td>23907000000</td>\n",
       "    </tr>\n",
       "  </tbody>\n",
       "</table>\n",
       "</div>"
      ],
      "text/plain": [
       "       annual  free_cashflow\n",
       "0  2021-12-31    67012000000\n",
       "1  2020-12-31    42843000000\n",
       "2  2019-12-31    30972000000\n",
       "3  2018-12-31    22832000000\n",
       "4  2017-12-31    23907000000"
      ]
     },
     "execution_count": 1,
     "metadata": {},
     "output_type": "execute_result"
    }
   ],
   "source": [
    "from fmp_data import FMPData\n",
    "fmp = FMPData(\"/Users/acataldo/Code/finance/financy\")\n",
    "print(fmp.market_cap(\"GOOG\"))\n",
    "fmp.historic_fcf(\"GOOG\", \"annual\")"
   ]
  },
  {
   "cell_type": "code",
   "execution_count": 3,
   "id": "7886370c-4e03-4eba-9166-0c6b2f097365",
   "metadata": {},
   "outputs": [
    {
     "data": {
      "text/plain": [
       "1461950218240"
      ]
     },
     "execution_count": 3,
     "metadata": {},
     "output_type": "execute_result"
    }
   ],
   "source": []
  },
  {
   "cell_type": "code",
   "execution_count": null,
   "id": "c205d2df-85a1-4fc2-a351-4bdc7a94859d",
   "metadata": {},
   "outputs": [],
   "source": [
    "fmp.get"
   ]
  },
  {
   "cell_type": "code",
   "execution_count": 2,
   "id": "27574718-43ce-454b-827a-715edf5375ab",
   "metadata": {},
   "outputs": [
    {
     "data": {
      "text/plain": [
       "0    2.0\n",
       "1    4.0\n",
       "2    6.0\n",
       "3    NaN\n",
       "dtype: float64"
      ]
     },
     "execution_count": 2,
     "metadata": {},
     "output_type": "execute_result"
    }
   ],
   "source": [
    "import pandas as pd\n",
    "x1 = pd.Series([1, 2, 3, 4])\n",
    "x2 = pd.Series([1, 2, 3])\n",
    "x1 + x2"
   ]
  },
  {
   "cell_type": "code",
   "execution_count": 16,
   "id": "ba12fe36-06af-4c72-a027-28018263ed77",
   "metadata": {},
   "outputs": [
    {
     "data": {
      "text/plain": [
       "0    1\n",
       "1    2\n",
       "2    3\n",
       "3    4\n",
       "4    0\n",
       "5    0\n",
       "6    0\n",
       "dtype: int64"
      ]
     },
     "execution_count": 16,
     "metadata": {},
     "output_type": "execute_result"
    }
   ],
   "source": [
    "pd.concat([x1, pd.Series([0]*3)], ignore_index=True)"
   ]
  },
  {
   "cell_type": "code",
   "execution_count": 18,
   "id": "8dbfe4f6-91cf-449f-b3fd-f3732384d723",
   "metadata": {},
   "outputs": [
    {
     "data": {
      "text/plain": [
       "0    2\n",
       "1    4\n",
       "2    6\n",
       "3    8\n",
       "dtype: int64"
      ]
     },
     "execution_count": 18,
     "metadata": {},
     "output_type": "execute_result"
    }
   ],
   "source": [
    "x1+x1"
   ]
  },
  {
   "cell_type": "code",
   "execution_count": 12,
   "id": "0a8a321f-145d-41bc-b58f-2932f6c379ed",
   "metadata": {},
   "outputs": [
    {
     "name": "stderr",
     "output_type": "stream",
     "text": [
      "/var/folders/41/6ndc1jy93znf1rhmqc6c5w3c00gbpl/T/ipykernel_10270/652514628.py:1: FutureWarning: The series.append method is deprecated and will be removed from pandas in a future version. Use pandas.concat instead.\n",
      "  x1.append(x2)\n"
     ]
    },
    {
     "data": {
      "text/plain": [
       "0    1\n",
       "1    2\n",
       "2    3\n",
       "3    4\n",
       "0    1\n",
       "1    2\n",
       "2    3\n",
       "dtype: int64"
      ]
     },
     "execution_count": 12,
     "metadata": {},
     "output_type": "execute_result"
    }
   ],
   "source": [
    "x1.append(x2)"
   ]
  },
  {
   "cell_type": "code",
   "execution_count": 19,
   "id": "40a1ff21-9d93-4d42-9044-03fcf8320496",
   "metadata": {},
   "outputs": [
    {
     "data": {
      "text/plain": [
       "0    1\n",
       "1    2\n",
       "2    3\n",
       "dtype: int64"
      ]
     },
     "execution_count": 19,
     "metadata": {},
     "output_type": "execute_result"
    }
   ],
   "source": [
    "x1[0:3]"
   ]
  },
  {
   "cell_type": "code",
   "execution_count": null,
   "id": "7be0f122-b622-4193-967d-194220085f9d",
   "metadata": {},
   "outputs": [],
   "source": []
  },
  {
   "cell_type": "code",
   "execution_count": null,
   "id": "839c2a62-21d6-421b-8bf6-ac4b9bfe18d5",
   "metadata": {},
   "outputs": [],
   "source": []
  },
  {
   "cell_type": "code",
   "execution_count": null,
   "id": "47527d75-46cd-456a-85bd-80f1e1d7884f",
   "metadata": {},
   "outputs": [],
   "source": []
  },
  {
   "cell_type": "code",
   "execution_count": null,
   "id": "01290f6b-2354-4fa9-902e-e421152cd1e9",
   "metadata": {},
   "outputs": [],
   "source": []
  },
  {
   "cell_type": "code",
   "execution_count": null,
   "id": "b4807941-7569-4f5a-80ec-01c4b54535bd",
   "metadata": {},
   "outputs": [],
   "source": []
  },
  {
   "cell_type": "code",
   "execution_count": null,
   "id": "cf5f5f8c-971a-4b6d-87a6-b38f82f72654",
   "metadata": {},
   "outputs": [],
   "source": []
  },
  {
   "cell_type": "code",
   "execution_count": null,
   "id": "1e85e92a-642d-45d0-a669-b029fce8a5ad",
   "metadata": {},
   "outputs": [],
   "source": []
  },
  {
   "cell_type": "code",
   "execution_count": null,
   "id": "bbc6870d-2131-4276-93b3-ee66ba5b11df",
   "metadata": {},
   "outputs": [],
   "source": []
  },
  {
   "cell_type": "code",
   "execution_count": null,
   "id": "b664ddbd-9d57-43bd-becc-b0174d92b500",
   "metadata": {},
   "outputs": [],
   "source": []
  },
  {
   "cell_type": "code",
   "execution_count": null,
   "id": "eed559cc-9724-4480-b60c-8eaa9ae05992",
   "metadata": {},
   "outputs": [],
   "source": []
  },
  {
   "cell_type": "code",
   "execution_count": null,
   "id": "5f61d4c6-2b32-4ece-a9c8-87c8bbf3b3a0",
   "metadata": {},
   "outputs": [],
   "source": []
  },
  {
   "cell_type": "code",
   "execution_count": null,
   "id": "4cee0e5a-4a67-4b7b-b711-7e5644799865",
   "metadata": {},
   "outputs": [],
   "source": []
  },
  {
   "cell_type": "code",
   "execution_count": null,
   "id": "c9e3c828-d5b3-4ac4-8b09-f61df5094afb",
   "metadata": {},
   "outputs": [],
   "source": []
  },
  {
   "cell_type": "code",
   "execution_count": null,
   "id": "daf874ae-a728-4f99-ad13-c71ac2f6c8c8",
   "metadata": {},
   "outputs": [],
   "source": []
  },
  {
   "cell_type": "code",
   "execution_count": null,
   "id": "cb1d62a8-5eb9-4ae5-b067-12596dbe24a7",
   "metadata": {
    "jupyter": {
     "source_hidden": true
    },
    "tags": []
   },
   "outputs": [],
   "source": []
  }
 ],
 "metadata": {
  "kernelspec": {
   "display_name": "Python 3 (ipykernel)",
   "language": "python",
   "name": "python3"
  },
  "language_info": {
   "codemirror_mode": {
    "name": "ipython",
    "version": 3
   },
   "file_extension": ".py",
   "mimetype": "text/x-python",
   "name": "python",
   "nbconvert_exporter": "python",
   "pygments_lexer": "ipython3",
   "version": "3.8.9"
  }
 },
 "nbformat": 4,
 "nbformat_minor": 5
}
