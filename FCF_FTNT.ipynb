{
 "cells": [
  {
   "cell_type": "code",
   "execution_count": 1,
   "id": "4d030d55-bf71-4698-bca2-94ce8adc4a57",
   "metadata": {
    "jupyter": {
     "source_hidden": true
    },
    "tags": []
   },
   "outputs": [
    {
     "data": {
      "text/plain": [
       "IntrinsicValue(low=36.032286771817475, high=50.34442111654127)"
      ]
     },
     "execution_count": 1,
     "metadata": {},
     "output_type": "execute_result"
    }
   ],
   "source": [
    "from valuation import value_csv\n",
    "value_latest = value_csv('FTNT')\n",
    "value_latest"
   ]
  },
  {
   "cell_type": "code",
   "execution_count": null,
   "id": "391abb84-3496-4e43-8d86-abf1127446e6",
   "metadata": {
    "jupyter": {
     "source_hidden": true
    },
    "tags": []
   },
   "outputs": [
    {
     "data": {
      "text/plain": [
       "IntrinsicValue(low=28.96718107116323, high=293.41550080271014)"
      ]
     },
     "execution_count": 2,
     "metadata": {},
     "output_type": "execute_result"
    }
   ],
   "source": [
    "value_csv('HPQ')"
   ]
  },
  {
   "cell_type": "code",
   "execution_count": null,
   "id": "116ba205-89a3-434b-b461-643e9c42d351",
   "metadata": {},
   "outputs": [
    {
     "data": {
      "text/plain": [
       "IntrinsicValue(low=70.6339606057017, high=881.7261495437655)"
      ]
     },
     "execution_count": 3,
     "metadata": {},
     "output_type": "execute_result"
    }
   ],
   "source": [
    "value_csv('LMT')"
   ]
  },
  {
   "cell_type": "code",
   "execution_count": null,
   "id": "9d70b815-f7d2-4e69-a232-328076ef145b",
   "metadata": {},
   "outputs": [
    {
     "data": {
      "text/plain": [
       "IntrinsicValue(low=133.21282609803268, high=266.91375327900096)"
      ]
     },
     "execution_count": 4,
     "metadata": {},
     "output_type": "execute_result"
    }
   ],
   "source": [
    "value_csv('PM')"
   ]
  },
  {
   "cell_type": "code",
   "execution_count": null,
   "id": "5da854ac-edca-4fa4-9b42-b7b14891ad01",
   "metadata": {},
   "outputs": [
    {
     "data": {
      "text/plain": [
       "IntrinsicValue(low=143.55696716932812, high=93075.62758911379)"
      ]
     },
     "execution_count": 5,
     "metadata": {},
     "output_type": "execute_result"
    }
   ],
   "source": [
    "value_csv('NRG')"
   ]
  },
  {
   "cell_type": "code",
   "execution_count": null,
   "id": "585dee45-9039-4fe3-ac93-495a89c21094",
   "metadata": {},
   "outputs": [
    {
     "data": {
      "text/plain": [
       "IntrinsicValue(low=0.06502452386068171, high=5535.472419896469)"
      ]
     },
     "execution_count": 6,
     "metadata": {},
     "output_type": "execute_result"
    }
   ],
   "source": [
    "value_csv('AMD')"
   ]
  },
  {
   "cell_type": "code",
   "execution_count": null,
   "id": "5b22778c-5a74-4c59-ae94-5e3cf05be3b9",
   "metadata": {},
   "outputs": [
    {
     "data": {
      "text/plain": [
       "IntrinsicValue(low=2520.312205335011, high=6457.67149016072)"
      ]
     },
     "execution_count": 7,
     "metadata": {},
     "output_type": "execute_result"
    }
   ],
   "source": [
    "value_csv('GOOG')"
   ]
  },
  {
   "cell_type": "code",
   "execution_count": null,
   "id": "e4ec79e4-3a53-44c3-abda-be85fb3cb3ef",
   "metadata": {
    "jupyter": {
     "source_hidden": true
    },
    "tags": []
   },
   "outputs": [],
   "source": []
  },
  {
   "cell_type": "markdown",
   "id": "15314f40-0cb5-45af-b329-da5356a25047",
   "metadata": {},
   "source": [
    "Sell FTNT at $63\n",
    "Hold HPQ\n",
    "Hold LMT\n",
    "Hold PM\n",
    "Consider buying more NRG\n",
    "Hold AMD\n",
    "Consider buying more GOOG\n"
   ]
  },
  {
   "cell_type": "code",
   "execution_count": 1,
   "id": "8dd636d0-e0ed-4bd8-8027-b5c8ba2e0e37",
   "metadata": {},
   "outputs": [
    {
     "data": {
      "text/plain": [
       "IntrinsicValue(low=2520.312205335011, high=6457.67149016072)"
      ]
     },
     "execution_count": 1,
     "metadata": {},
     "output_type": "execute_result"
    }
   ],
   "source": [
    "from valuation import value_csv\n",
    "value_csv('GOOG')"
   ]
  },
  {
   "cell_type": "code",
   "execution_count": 3,
   "id": "f41d0d4f-f0cd-4066-97b2-359cd2ce5cf1",
   "metadata": {},
   "outputs": [
    {
     "data": {
      "text/plain": [
       "IntrinsicValue(low=346.3498101325246, high=548.063166074698)"
      ]
     },
     "execution_count": 3,
     "metadata": {},
     "output_type": "execute_result"
    }
   ],
   "source": [
    "value_csv('TSLA')"
   ]
  },
  {
   "cell_type": "code",
   "execution_count": null,
   "id": "28fda500-050d-4ee8-a601-82cefd9a4c93",
   "metadata": {},
   "outputs": [],
   "source": []
  },
  {
   "cell_type": "code",
   "execution_count": null,
   "id": "b3f24cfe-ee46-43bc-b5a4-123b7f4c0482",
   "metadata": {},
   "outputs": [],
   "source": []
  },
  {
   "cell_type": "code",
   "execution_count": 5,
   "id": "df4a9360-3dde-4c33-8209-176c7b735f2d",
   "metadata": {},
   "outputs": [
    {
     "data": {
      "text/plain": [
       "GrowthEstimate(low=-12.83266963880062, high=-5.232456831473016)"
      ]
     },
     "execution_count": 5,
     "metadata": {},
     "output_type": "execute_result"
    }
   ],
   "source": [
    "from valuation import estimate_growth, estimate_growth_negative_fcf\n",
    "estimate_growth(df) "
   ]
  },
  {
   "cell_type": "code",
   "execution_count": 6,
   "id": "e91f6b36-c0a1-46e8-8a30-4878bf55e647",
   "metadata": {},
   "outputs": [
    {
     "data": {
      "text/plain": [
       "GrowthEstimate(low=0.32188095316666115, high=0.4047753799738825)"
      ]
     },
     "execution_count": 6,
     "metadata": {},
     "output_type": "execute_result"
    }
   ],
   "source": [
    "estimate_growth_negative_fcf(df)"
   ]
  },
  {
   "cell_type": "code",
   "execution_count": 7,
   "id": "9ba402e7-41c6-4f47-9aaa-4b361c6991b4",
   "metadata": {},
   "outputs": [
    {
     "data": {
      "text/plain": [
       "-4426638000.0"
      ]
     },
     "execution_count": 7,
     "metadata": {},
     "output_type": "execute_result"
    }
   ],
   "source": [
    "df.free_cashflow.min()"
   ]
  },
  {
   "cell_type": "code",
   "execution_count": null,
   "id": "aa337ebc-7c96-4c05-9119-ccc486fb0403",
   "metadata": {},
   "outputs": [],
   "source": []
  },
  {
   "cell_type": "code",
   "execution_count": null,
   "id": "cb1d62a8-5eb9-4ae5-b067-12596dbe24a7",
   "metadata": {
    "jupyter": {
     "source_hidden": true
    },
    "tags": []
   },
   "outputs": [],
   "source": []
  }
 ],
 "metadata": {
  "kernelspec": {
   "display_name": "Python 3 (ipykernel)",
   "language": "python",
   "name": "python3"
  },
  "language_info": {
   "codemirror_mode": {
    "name": "ipython",
    "version": 3
   },
   "file_extension": ".py",
   "mimetype": "text/x-python",
   "name": "python",
   "nbconvert_exporter": "python",
   "pygments_lexer": "ipython3",
   "version": "3.8.9"
  }
 },
 "nbformat": 4,
 "nbformat_minor": 5
}
